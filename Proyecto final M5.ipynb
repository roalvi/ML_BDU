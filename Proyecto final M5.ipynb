{
 "cells": [
  {
   "cell_type": "code",
   "execution_count": 1,
   "id": "3e5d851b-7372-4b0a-85cb-d4c7ef85f319",
   "metadata": {},
   "outputs": [],
   "source": [
    "import pandas as pd\n",
    "import matplotlib.pyplot as plt\n",
    "import seaborn as sns"
   ]
  },
  {
   "cell_type": "code",
   "execution_count": 2,
   "id": "a000ce10-d39b-46bd-abc5-4a027bf9efd1",
   "metadata": {},
   "outputs": [
    {
     "data": {
      "text/html": [
       "<div>\n",
       "<style scoped>\n",
       "    .dataframe tbody tr th:only-of-type {\n",
       "        vertical-align: middle;\n",
       "    }\n",
       "\n",
       "    .dataframe tbody tr th {\n",
       "        vertical-align: top;\n",
       "    }\n",
       "\n",
       "    .dataframe thead th {\n",
       "        text-align: right;\n",
       "    }\n",
       "</style>\n",
       "<table border=\"1\" class=\"dataframe\">\n",
       "  <thead>\n",
       "    <tr style=\"text-align: right;\">\n",
       "      <th></th>\n",
       "      <th>Id</th>\n",
       "      <th>Email</th>\n",
       "      <th>Compania</th>\n",
       "      <th>Monto</th>\n",
       "      <th>Dispositivo</th>\n",
       "      <th>Ocupacion</th>\n",
       "    </tr>\n",
       "  </thead>\n",
       "  <tbody>\n",
       "    <tr>\n",
       "      <th>0</th>\n",
       "      <td>1</td>\n",
       "      <td>mbcc2010@hotmail.com</td>\n",
       "      <td>Nokia</td>\n",
       "      <td>56</td>\n",
       "      <td>Android</td>\n",
       "      <td>Estudiante</td>\n",
       "    </tr>\n",
       "    <tr>\n",
       "      <th>1</th>\n",
       "      <td>2</td>\n",
       "      <td>jj8510sm@gmail.com</td>\n",
       "      <td>Pfizer</td>\n",
       "      <td>120</td>\n",
       "      <td>Android</td>\n",
       "      <td>Ingeniero</td>\n",
       "    </tr>\n",
       "    <tr>\n",
       "      <th>2</th>\n",
       "      <td>3</td>\n",
       "      <td>luceroaceves0@gmail.com</td>\n",
       "      <td>Shopify</td>\n",
       "      <td>200</td>\n",
       "      <td>Android</td>\n",
       "      <td>Otros</td>\n",
       "    </tr>\n",
       "    <tr>\n",
       "      <th>3</th>\n",
       "      <td>4</td>\n",
       "      <td>sergiomora2263@gmail.com</td>\n",
       "      <td>Aurora Cannabis</td>\n",
       "      <td>50</td>\n",
       "      <td>Android</td>\n",
       "      <td>Ingeniero</td>\n",
       "    </tr>\n",
       "    <tr>\n",
       "      <th>4</th>\n",
       "      <td>5</td>\n",
       "      <td>ivonnem0294@gmail.com</td>\n",
       "      <td>Disney</td>\n",
       "      <td>30</td>\n",
       "      <td>Android</td>\n",
       "      <td>Otros</td>\n",
       "    </tr>\n",
       "  </tbody>\n",
       "</table>\n",
       "</div>"
      ],
      "text/plain": [
       "   Id                     Email         Compania  Monto Dispositivo  \\\n",
       "0   1      mbcc2010@hotmail.com            Nokia     56     Android   \n",
       "1   2        jj8510sm@gmail.com           Pfizer    120     Android   \n",
       "2   3   luceroaceves0@gmail.com          Shopify    200     Android   \n",
       "3   4  sergiomora2263@gmail.com  Aurora Cannabis     50     Android   \n",
       "4   5     ivonnem0294@gmail.com          Disney      30     Android   \n",
       "\n",
       "    Ocupacion  \n",
       "0  Estudiante  \n",
       "1   Ingeniero  \n",
       "2       Otros  \n",
       "3   Ingeniero  \n",
       "4       Otros  "
      ]
     },
     "execution_count": 2,
     "metadata": {},
     "output_type": "execute_result"
    }
   ],
   "source": [
    "# Clientes inviertiendo\n",
    "\n",
    "df = pd.read_csv('Proyecto_final.csv')\n",
    "\n",
    "df.head()"
   ]
  },
  {
   "cell_type": "code",
   "execution_count": 3,
   "id": "d611e28f-2101-47a4-b838-63d4663d6480",
   "metadata": {},
   "outputs": [
    {
     "data": {
      "text/html": [
       "<div>\n",
       "<style scoped>\n",
       "    .dataframe tbody tr th:only-of-type {\n",
       "        vertical-align: middle;\n",
       "    }\n",
       "\n",
       "    .dataframe tbody tr th {\n",
       "        vertical-align: top;\n",
       "    }\n",
       "\n",
       "    .dataframe thead th {\n",
       "        text-align: right;\n",
       "    }\n",
       "</style>\n",
       "<table border=\"1\" class=\"dataframe\">\n",
       "  <thead>\n",
       "    <tr style=\"text-align: right;\">\n",
       "      <th></th>\n",
       "      <th>Id</th>\n",
       "      <th>Email</th>\n",
       "      <th>Compania</th>\n",
       "      <th>Monto</th>\n",
       "      <th>Dispositivo</th>\n",
       "      <th>Ocupacion</th>\n",
       "    </tr>\n",
       "  </thead>\n",
       "  <tbody>\n",
       "    <tr>\n",
       "      <th>0</th>\n",
       "      <td>1</td>\n",
       "      <td>mbcc2010@hotmail.com</td>\n",
       "      <td>Nokia</td>\n",
       "      <td>56</td>\n",
       "      <td>Android</td>\n",
       "      <td>Estudiante</td>\n",
       "    </tr>\n",
       "    <tr>\n",
       "      <th>1</th>\n",
       "      <td>2</td>\n",
       "      <td>jj8510sm@gmail.com</td>\n",
       "      <td>Pfizer</td>\n",
       "      <td>120</td>\n",
       "      <td>Android</td>\n",
       "      <td>Ingeniero</td>\n",
       "    </tr>\n",
       "    <tr>\n",
       "      <th>2</th>\n",
       "      <td>3</td>\n",
       "      <td>luceroaceves0@gmail.com</td>\n",
       "      <td>Shopify</td>\n",
       "      <td>200</td>\n",
       "      <td>Android</td>\n",
       "      <td>Otros</td>\n",
       "    </tr>\n",
       "    <tr>\n",
       "      <th>3</th>\n",
       "      <td>4</td>\n",
       "      <td>sergiomora2263@gmail.com</td>\n",
       "      <td>Aurora Cannabis</td>\n",
       "      <td>50</td>\n",
       "      <td>Android</td>\n",
       "      <td>Ingeniero</td>\n",
       "    </tr>\n",
       "    <tr>\n",
       "      <th>4</th>\n",
       "      <td>5</td>\n",
       "      <td>ivonnem0294@gmail.com</td>\n",
       "      <td>Disney</td>\n",
       "      <td>30</td>\n",
       "      <td>Android</td>\n",
       "      <td>Otros</td>\n",
       "    </tr>\n",
       "    <tr>\n",
       "      <th>...</th>\n",
       "      <td>...</td>\n",
       "      <td>...</td>\n",
       "      <td>...</td>\n",
       "      <td>...</td>\n",
       "      <td>...</td>\n",
       "      <td>...</td>\n",
       "    </tr>\n",
       "    <tr>\n",
       "      <th>2092</th>\n",
       "      <td>2093</td>\n",
       "      <td>carlitos.9721@hotmail.com</td>\n",
       "      <td>Nokia</td>\n",
       "      <td>70</td>\n",
       "      <td>Android</td>\n",
       "      <td>Estudiante</td>\n",
       "    </tr>\n",
       "    <tr>\n",
       "      <th>2093</th>\n",
       "      <td>2094</td>\n",
       "      <td>miguelangel.esgom@gmail.com</td>\n",
       "      <td>Nokia</td>\n",
       "      <td>2000</td>\n",
       "      <td>iOS</td>\n",
       "      <td>Empleado</td>\n",
       "    </tr>\n",
       "    <tr>\n",
       "      <th>2094</th>\n",
       "      <td>2095</td>\n",
       "      <td>rosasaguilaralberto@gmail.com</td>\n",
       "      <td>Tesla</td>\n",
       "      <td>50</td>\n",
       "      <td>Android</td>\n",
       "      <td>Empleado</td>\n",
       "    </tr>\n",
       "    <tr>\n",
       "      <th>2095</th>\n",
       "      <td>2096</td>\n",
       "      <td>luisricardova@gmail.com</td>\n",
       "      <td>Zoom</td>\n",
       "      <td>200</td>\n",
       "      <td>Android</td>\n",
       "      <td>Empleado</td>\n",
       "    </tr>\n",
       "    <tr>\n",
       "      <th>2096</th>\n",
       "      <td>2097</td>\n",
       "      <td>jhdezro92@gmail.com</td>\n",
       "      <td>Spotify</td>\n",
       "      <td>4000</td>\n",
       "      <td>Android</td>\n",
       "      <td>Ingeniero</td>\n",
       "    </tr>\n",
       "  </tbody>\n",
       "</table>\n",
       "<p>2097 rows × 6 columns</p>\n",
       "</div>"
      ],
      "text/plain": [
       "        Id                          Email         Compania  Monto Dispositivo  \\\n",
       "0        1           mbcc2010@hotmail.com            Nokia     56     Android   \n",
       "1        2             jj8510sm@gmail.com           Pfizer    120     Android   \n",
       "2        3        luceroaceves0@gmail.com          Shopify    200     Android   \n",
       "3        4       sergiomora2263@gmail.com  Aurora Cannabis     50     Android   \n",
       "4        5          ivonnem0294@gmail.com          Disney      30     Android   \n",
       "...    ...                            ...              ...    ...         ...   \n",
       "2092  2093      carlitos.9721@hotmail.com            Nokia     70     Android   \n",
       "2093  2094    miguelangel.esgom@gmail.com            Nokia   2000         iOS   \n",
       "2094  2095  rosasaguilaralberto@gmail.com            Tesla     50     Android   \n",
       "2095  2096        luisricardova@gmail.com             Zoom    200     Android   \n",
       "2096  2097            jhdezro92@gmail.com          Spotify   4000     Android   \n",
       "\n",
       "       Ocupacion  \n",
       "0     Estudiante  \n",
       "1      Ingeniero  \n",
       "2          Otros  \n",
       "3      Ingeniero  \n",
       "4          Otros  \n",
       "...          ...  \n",
       "2092  Estudiante  \n",
       "2093    Empleado  \n",
       "2094    Empleado  \n",
       "2095    Empleado  \n",
       "2096   Ingeniero  \n",
       "\n",
       "[2097 rows x 6 columns]"
      ]
     },
     "execution_count": 3,
     "metadata": {},
     "output_type": "execute_result"
    }
   ],
   "source": [
    "df "
   ]
  },
  {
   "cell_type": "code",
   "execution_count": 4,
   "id": "0ce6ff53-532f-473b-97f9-af132347794e",
   "metadata": {},
   "outputs": [
    {
     "data": {
      "text/plain": [
       "Index(['Id', 'Email', 'Compania', 'Monto', 'Dispositivo', 'Ocupacion'], dtype='object')"
      ]
     },
     "execution_count": 4,
     "metadata": {},
     "output_type": "execute_result"
    }
   ],
   "source": [
    "df.columns"
   ]
  },
  {
   "cell_type": "code",
   "execution_count": 5,
   "id": "e1971e86-e17f-4904-b759-94706e51b363",
   "metadata": {},
   "outputs": [
    {
     "data": {
      "text/plain": [
       "(2097, 6)"
      ]
     },
     "execution_count": 5,
     "metadata": {},
     "output_type": "execute_result"
    }
   ],
   "source": [
    "df.shape"
   ]
  },
  {
   "cell_type": "code",
   "execution_count": 6,
   "id": "b9a6c540-335e-4a54-9744-157964b8b286",
   "metadata": {},
   "outputs": [
    {
     "data": {
      "text/plain": [
       "Id              int64\n",
       "Email          object\n",
       "Compania       object\n",
       "Monto           int64\n",
       "Dispositivo    object\n",
       "Ocupacion      object\n",
       "dtype: object"
      ]
     },
     "execution_count": 6,
     "metadata": {},
     "output_type": "execute_result"
    }
   ],
   "source": [
    "df.dtypes"
   ]
  },
  {
   "cell_type": "code",
   "execution_count": 7,
   "id": "e23cba64-c8ee-4a9f-9fff-d5ec3c84bdf7",
   "metadata": {},
   "outputs": [
    {
     "data": {
      "text/plain": [
       "Monto\n",
       "30       248\n",
       "31         1\n",
       "32         3\n",
       "33         2\n",
       "34         9\n",
       "        ... \n",
       "9000       2\n",
       "10000      3\n",
       "12450      1\n",
       "15000      1\n",
       "20000      1\n",
       "Length: 210, dtype: int64"
      ]
     },
     "execution_count": 7,
     "metadata": {},
     "output_type": "execute_result"
    }
   ],
   "source": [
    "# Montos de inversiones\n",
    "\n",
    "inversiones = df.groupby(\"Monto\")\n",
    "inversiones.size()"
   ]
  },
  {
   "cell_type": "code",
   "execution_count": 24,
   "id": "63b0367f-e087-4e91-b024-eb563cdd2aa4",
   "metadata": {},
   "outputs": [
    {
     "data": {
      "text/plain": [
       "count     2097.000000\n",
       "mean       367.256080\n",
       "std        996.981334\n",
       "min         30.000000\n",
       "25%         60.000000\n",
       "50%        100.000000\n",
       "75%        300.000000\n",
       "max      20000.000000\n",
       "Name: Monto, dtype: float64"
      ]
     },
     "execution_count": 24,
     "metadata": {},
     "output_type": "execute_result"
    }
   ],
   "source": [
    "df[\"Monto\"].describe()"
   ]
  },
  {
   "cell_type": "code",
   "execution_count": 8,
   "id": "823e4ad1-e41d-4df9-ace4-1bda792211b4",
   "metadata": {},
   "outputs": [
    {
     "data": {
      "text/plain": [
       "Compania\n",
       "3M                           28\n",
       "3M                           18\n",
       "AMD                          51\n",
       "Alibaba                      52\n",
       "Amazon                       25\n",
       "American Airlines            44\n",
       "American Airlines            47\n",
       "American Financial Group     38\n",
       "Apple                        67\n",
       "Apple                         2\n",
       "Aurora Cannabis              42\n",
       "BeamTherapeutics              3\n",
       "BeamTherapeutics             47\n",
       "Berkshire Hathaway            5\n",
       "BioNTech                      2\n",
       "CEMEX                        24\n",
       "Cloudera                     31\n",
       "Coca-Cola FEMSA              50\n",
       "Disney                        2\n",
       "Disney                      136\n",
       "Electronic Arts              25\n",
       "FEMSA                        10\n",
       "FEMSA                         1\n",
       "Facebook                     63\n",
       "Fox (Class A)                34\n",
       "Frontline                    40\n",
       "Gold resource corp           35\n",
       "Harley-Davidson              24\n",
       "Huami                        19\n",
       "HubSpot                      26\n",
       "Intel                        19\n",
       "JPMorgan Chase               29\n",
       "MSG Networks                 14\n",
       "Mastercard                   24\n",
       "Mattel                       19\n",
       "Mercadolibre                 45\n",
       "Microsoft                    42\n",
       "Moderna                      41\n",
       "NIO                          27\n",
       "NVIDIA                       39\n",
       "Netflix                      37\n",
       "Netflix                      30\n",
       "Nikola                       26\n",
       "Nokia                        73\n",
       "PayPal                       28\n",
       "Pfizer                       83\n",
       "Pinterest                    20\n",
       "Shopify                      23\n",
       "Snap                         19\n",
       "Snap                          3\n",
       "Sony                         35\n",
       "Spotify                      77\n",
       "Tesla                       145\n",
       "Tesla                         1\n",
       "Twitter                      38\n",
       "USANA                        25\n",
       "Western Union                36\n",
       "Whirpool                     28\n",
       "Wingstop                     13\n",
       "Zoom                         67\n",
       "dtype: int64"
      ]
     },
     "execution_count": 8,
     "metadata": {},
     "output_type": "execute_result"
    }
   ],
   "source": [
    "# Compañías en donde invierten\n",
    "\n",
    "inversiones = df.groupby(\"Compania\")\n",
    "inversiones.size()"
   ]
  },
  {
   "cell_type": "code",
   "execution_count": 9,
   "id": "ec331b48-09a5-473f-a40c-71805555e380",
   "metadata": {},
   "outputs": [
    {
     "name": "stdout",
     "output_type": "stream",
     "text": [
      "Compania\n",
      "3M                           28\n",
      "3M                           18\n",
      "AMD                          51\n",
      "Alibaba                      52\n",
      "Amazon                       25\n",
      "American Airlines            44\n",
      "American Airlines            47\n",
      "American Financial Group     38\n",
      "Apple                        67\n",
      "Apple                         2\n",
      "Aurora Cannabis              42\n",
      "BeamTherapeutics              3\n",
      "BeamTherapeutics             47\n",
      "Berkshire Hathaway            5\n",
      "BioNTech                      2\n",
      "CEMEX                        24\n",
      "Cloudera                     31\n",
      "Coca-Cola FEMSA              50\n",
      "Disney                        2\n",
      "Disney                      136\n",
      "Electronic Arts              25\n",
      "FEMSA                        10\n",
      "FEMSA                         1\n",
      "Facebook                     63\n",
      "Fox (Class A)                34\n",
      "Frontline                    40\n",
      "Gold resource corp           35\n",
      "Harley-Davidson              24\n",
      "Huami                        19\n",
      "HubSpot                      26\n",
      "Intel                        19\n",
      "JPMorgan Chase               29\n",
      "MSG Networks                 14\n",
      "Mastercard                   24\n",
      "Mattel                       19\n",
      "Mercadolibre                 45\n",
      "Microsoft                    42\n",
      "Moderna                      41\n",
      "NIO                          27\n",
      "NVIDIA                       39\n",
      "Netflix                      37\n",
      "Netflix                      30\n",
      "Nikola                       26\n",
      "Nokia                        73\n",
      "PayPal                       28\n",
      "Pfizer                       83\n",
      "Pinterest                    20\n",
      "Shopify                      23\n",
      "Snap                         19\n",
      "Snap                          3\n",
      "Sony                         35\n",
      "Spotify                      77\n",
      "Tesla                       145\n",
      "Tesla                         1\n",
      "Twitter                      38\n",
      "USANA                        25\n",
      "Western Union                36\n",
      "Whirpool                     28\n",
      "Wingstop                     13\n",
      "Zoom                         67\n",
      "Name: Monto, dtype: int64\n"
     ]
    }
   ],
   "source": [
    "conteo = df.groupby(\"Compania\")[\"Monto\"].count()\n",
    "print (conteo)"
   ]
  },
  {
   "cell_type": "code",
   "execution_count": 10,
   "id": "61009b27-fa61-4070-a571-78be6008f789",
   "metadata": {},
   "outputs": [],
   "source": [
    "counts = df['Monto'].value_counts()"
   ]
  },
  {
   "cell_type": "code",
   "execution_count": 23,
   "id": "764fd0b4-e54c-417d-93fb-2548328e306d",
   "metadata": {},
   "outputs": [
    {
     "data": {
      "image/png": "[encoded data removed]",
      "text/plain": [
       "<Figure size 432x288 with 1 Axes>"
      ]
     },
     "metadata": {
      "needs_background": "light"
     },
     "output_type": "display_data"
    }
   ],
   "source": [
    "ax = sns.barplot(x=counts.index, y=counts)\n",
    "ax.set_title('Monto')\n",
    "ax.set(ylabel='count');"
   ]
  },
  {
   "cell_type": "code",
   "execution_count": 12,
   "id": "7c1bd510-63bb-4fe7-b1bd-16dc895d8ed7",
   "metadata": {},
   "outputs": [
    {
     "data": {
      "image/png": "[encoded data removed]",
      "text/plain": [
       "<Figure size 432x288 with 1 Axes>"
      ]
     },
     "metadata": {
      "needs_background": "light"
     },
     "output_type": "display_data"
    }
   ],
   "source": [
    "conteo.plot(kind='bar');"
   ]
  },
  {
   "cell_type": "code",
   "execution_count": 13,
   "id": "c5d93e33-60d6-42fc-aaf4-43c3d66220e6",
   "metadata": {},
   "outputs": [
    {
     "data": {
      "text/plain": [
       "Ocupacion\n",
       "Artes           15\n",
       "Comerciante    161\n",
       "Empleado       666\n",
       "Empresario     129\n",
       "Estudiante     509\n",
       "Ingeniero      201\n",
       "Otros          198\n",
       "Profesional    169\n",
       "Profesor        49\n",
       "dtype: int64"
      ]
     },
     "execution_count": 13,
     "metadata": {},
     "output_type": "execute_result"
    }
   ],
   "source": [
    "inversiones = df.groupby(\"Ocupacion\")\n",
    "inversiones.size()"
   ]
  },
  {
   "cell_type": "code",
   "execution_count": 14,
   "id": "05cbaa30-f932-49cc-9685-f6b5a589dfc0",
   "metadata": {},
   "outputs": [
    {
     "data": {
      "image/png": "[encoded data removed]",
      "text/plain": [
       "<Figure size 432x288 with 1 Axes>"
      ]
     },
     "metadata": {
      "needs_background": "light"
     },
     "output_type": "display_data"
    }
   ],
   "source": [
    "sns.scatterplot(x=df['Compania'], y=df['Monto']);"
   ]
  },
  {
   "cell_type": "code",
   "execution_count": 16,
   "id": "4eb9c539-5bbd-4864-b169-63d12d724b9d",
   "metadata": {},
   "outputs": [
    {
     "data": {
      "image/png": "[encoded data removed]",
      "text/plain": [
       "<Figure size 432x288 with 1 Axes>"
      ]
     },
     "metadata": {
      "needs_background": "light"
     },
     "output_type": "display_data"
    }
   ],
   "source": [
    "sns.boxplot(x=df['Monto']);"
   ]
  },
  {
   "cell_type": "code",
   "execution_count": 18,
   "id": "40366101-0341-42bd-9254-bfba4b1be7b1",
   "metadata": {},
   "outputs": [
    {
     "data": {
      "text/html": [
       "<div>\n",
       "<style scoped>\n",
       "    .dataframe tbody tr th:only-of-type {\n",
       "        vertical-align: middle;\n",
       "    }\n",
       "\n",
       "    .dataframe tbody tr th {\n",
       "        vertical-align: top;\n",
       "    }\n",
       "\n",
       "    .dataframe thead th {\n",
       "        text-align: right;\n",
       "    }\n",
       "</style>\n",
       "<table border=\"1\" class=\"dataframe\">\n",
       "  <thead>\n",
       "    <tr style=\"text-align: right;\">\n",
       "      <th></th>\n",
       "      <th>Id</th>\n",
       "      <th>Monto</th>\n",
       "    </tr>\n",
       "  </thead>\n",
       "  <tbody>\n",
       "    <tr>\n",
       "      <th>Id</th>\n",
       "      <td>1.000000</td>\n",
       "      <td>0.005147</td>\n",
       "    </tr>\n",
       "    <tr>\n",
       "      <th>Monto</th>\n",
       "      <td>0.005147</td>\n",
       "      <td>1.000000</td>\n",
       "    </tr>\n",
       "  </tbody>\n",
       "</table>\n",
       "</div>"
      ],
      "text/plain": [
       "             Id     Monto\n",
       "Id     1.000000  0.005147\n",
       "Monto  0.005147  1.000000"
      ]
     },
     "execution_count": 18,
     "metadata": {},
     "output_type": "execute_result"
    }
   ],
   "source": [
    "df.corr()"
   ]
  },
  {
   "cell_type": "code",
   "execution_count": 19,
   "id": "c577fe0b-f8dc-46d2-b938-f2b4e805818c",
   "metadata": {},
   "outputs": [
    {
     "data": {
      "image/png": "[encoded data removed]",
      "text/plain": [
       "<Figure size 576x432 with 2 Axes>"
      ]
     },
     "metadata": {
      "needs_background": "light"
     },
     "output_type": "display_data"
    }
   ],
   "source": [
    "plt.figure(figsize=(8, 6))\n",
    "ax = sns.heatmap(df.corr(), vmin=-1, vmax=1, annot=True, cmap=\"YlGnBu\", linewidths=.5);"
   ]
  },
  {
   "cell_type": "code",
   "execution_count": null,
   "id": "660d3aa9-17fd-4402-9d7d-8b9910efa279",
   "metadata": {},
   "outputs": [],
   "source": [
    "from sklearn"
   ]
  }
 ],
 "metadata": {
  "kernelspec": {
   "display_name": "Python 3",
   "language": "python",
   "name": "python3"
  },
  "language_info": {
   "codemirror_mode": {
    "name": "ipython",
    "version": 3
   },
   "file_extension": ".py",
   "mimetype": "text/x-python",
   "name": "python",
   "nbconvert_exporter": "python",
   "pygments_lexer": "ipython3",
   "version": "3.8.8"
  }
 },
 "nbformat": 4,
 "nbformat_minor": 5
}
